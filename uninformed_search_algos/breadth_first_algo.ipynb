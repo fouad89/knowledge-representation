{
 "cells": [
  {
   "cell_type": "markdown",
   "source": [
    "## Breadth-First Search\n",
    "Implementing breadth-first search on 2 examples"
   ],
   "metadata": {}
  },
  {
   "cell_type": "code",
   "execution_count": 2,
   "source": [
    "romania_location_map_full = {\n",
    "    'Arad' : {'pos': (21.31227,46.18656), 'connections': ['Sibiu','Timisoara','Zerind'] },\n",
    "    'Sibiu' : {'pos': (24.12558,45.79833), 'connections': ['Fagaras','Rimnicu Vilcea','Oradea'] },\n",
    "    'Zerind' : {'pos': (21.51742,46.62251), 'connections': ['Oradea'] },\n",
    "    'Timisoara' : {'pos': (21.20868,45.74887), 'connections': ['Lugoj'] },\n",
    "    'Oradea' : {'pos': (21.91894,47.04650), 'connections': [] },\n",
    "    'Fagaras' : {'pos': (24.97310,45.84164), 'connections': ['Bucharest'] },\n",
    "    'Lugoj' : {'pos': (21.90346,45.69099), 'connections': ['Mehadia'] },\n",
    "    'Rimnicu Vilcea' : {'pos': (24.36932,45.09968), 'connections': ['Craiova','Pitesti'] },\n",
    "    'Mehadia' : {'pos': (22.36452,44.90411), 'connections': ['Dobreta'] },\n",
    "    'Dobreta' : {'pos': (22.65973,44.63692), 'connections': ['Craiova'] },\n",
    "    'Craiova' : {'pos': (23.79488,44.33018), 'connections': [] },\n",
    "    'Pitesti' : {'pos': (24.86918,44.85648), 'connections': ['Bucharest','Craiova'] },\n",
    "    'Bucharest' : {'pos': (26.10254,44.42677), 'connections': ['Giurgiu','Urziceni'] },\n",
    "    'Giurgiu' : {'pos': (25.96993,43.90371), 'connections': [] },\n",
    "    'Urziceni' : {'pos': (26.64112,44.71653), 'connections': ['Hirsova','Vaslui'] },\n",
    "    'Vaslui' : {'pos': (27.72765,46.64069), 'connections': ['Lasi'] },\n",
    "    'Lasi' : {'pos':(27.60144,47.15845), 'connections': ['Neamt'] },\n",
    "    'Neamt' : {'pos': (26.38188,46.97587), 'connections': [] },\n",
    "    'Hirsova' : {'pos': (27.94566,44.68935), 'connections': ['Eforie'] },\n",
    "    'Eforie' : {'pos': (28.65273,44.04911), 'connections': [] }\n",
    "}"
   ],
   "outputs": [],
   "metadata": {}
  },
  {
   "cell_type": "code",
   "execution_count": 3,
   "source": [
    "visited = []\n",
    "queue = []\n",
    "\n",
    "def bfs(visited, graph, node):\n",
    "    # root node\n",
    "    visited.append(node)\n",
    "    queue.append(node)\n",
    "\n",
    "    while queue:\n",
    "        s = queue.pop(0)\n",
    "        print(s)\n",
    "\n",
    "        for neighbor in graph[s]:\n",
    "            if neighbor not in visited:\n",
    "                visited.append(neighbor)\n",
    "                queue.append(neighbor)\n",
    "\n"
   ],
   "outputs": [],
   "metadata": {}
  },
  {
   "cell_type": "code",
   "execution_count": 4,
   "source": [
    "graph = {\n",
    "  'A' : ['B','C'],\n",
    "  'B' : ['D', 'E'],\n",
    "  'C' : ['F'],\n",
    "  'D' : [],\n",
    "  'E' : ['F'],\n",
    "  'F' : []\n",
    "}\n"
   ],
   "outputs": [],
   "metadata": {}
  },
  {
   "cell_type": "code",
   "execution_count": 5,
   "source": [
    "bfs(visited, graph, 'A')"
   ],
   "outputs": [
    {
     "output_type": "stream",
     "name": "stdout",
     "text": [
      "A\n",
      "B\n",
      "C\n",
      "D\n",
      "E\n",
      "F\n"
     ]
    }
   ],
   "metadata": {}
  },
  {
   "cell_type": "code",
   "execution_count": 16,
   "source": [
    "romania_map = {key: value['connections'] for key, value in romania_location_map_full.items()}\n",
    "print(romania_map)"
   ],
   "outputs": [
    {
     "output_type": "stream",
     "name": "stdout",
     "text": [
      "{'Arad': ['Sibiu', 'Timisoara', 'Zerind'], 'Sibiu': ['Fagaras', 'Rimnicu Vilcea', 'Oradea'], 'Zerind': ['Oradea'], 'Timisoara': ['Lugoj'], 'Oradea': [], 'Fagaras': ['Bucharest'], 'Lugoj': ['Mehadia'], 'Rimnicu Vilcea': ['Craiova', 'Pitesti'], 'Mehadia': ['Dobreta'], 'Dobreta': ['Craiova'], 'Craiova': [], 'Pitesti': ['Bucharest', 'Craiova'], 'Bucharest': ['Giurgiu', 'Urziceni'], 'Giurgiu': [], 'Urziceni': ['Hirsova', 'Vaslui'], 'Vaslui': ['Lasi'], 'Lasi': ['Neamt'], 'Neamt': [], 'Hirsova': ['Eforie'], 'Eforie': []}\n"
     ]
    }
   ],
   "metadata": {}
  },
  {
   "cell_type": "code",
   "execution_count": 19,
   "source": [
    "visited = []\n",
    "queue = []\n",
    "def bfs(visited, graph, node, goal):\n",
    "    # root node\n",
    "    visited.append(node)\n",
    "    queue.append(node)\n",
    "\n",
    "    while queue:\n",
    "        s = queue.pop(0)\n",
    "        print(s)\n",
    "\n",
    "        for neighbor in graph[s]:\n",
    "            if neighbor not in visited:\n",
    "                visited.append(neighbor)\n",
    "                queue.append(neighbor)\n",
    "                if neighbor == goal:\n",
    "                    return visited\n",
    "\n",
    "\n",
    "bfs(visited,romania_map,'Arad','Bucharest')"
   ],
   "outputs": [
    {
     "output_type": "stream",
     "name": "stdout",
     "text": [
      "Arad\n",
      "Sibiu\n",
      "Timisoara\n",
      "Zerind\n",
      "Fagaras\n"
     ]
    },
    {
     "output_type": "execute_result",
     "data": {
      "text/plain": [
       "['Arad',\n",
       " 'Sibiu',\n",
       " 'Timisoara',\n",
       " 'Zerind',\n",
       " 'Fagaras',\n",
       " 'Rimnicu Vilcea',\n",
       " 'Oradea',\n",
       " 'Lugoj',\n",
       " 'Bucharest']"
      ]
     },
     "metadata": {},
     "execution_count": 19
    }
   ],
   "metadata": {}
  },
  {
   "cell_type": "code",
   "execution_count": 9,
   "source": [
    "romania_location_map_full['Arad']['connections']"
   ],
   "outputs": [
    {
     "output_type": "execute_result",
     "data": {
      "text/plain": [
       "['Sibiu', 'Timisoara', 'Zerind']"
      ]
     },
     "metadata": {},
     "execution_count": 9
    }
   ],
   "metadata": {}
  },
  {
   "cell_type": "code",
   "execution_count": null,
   "source": [],
   "outputs": [],
   "metadata": {}
  }
 ],
 "metadata": {
  "orig_nbformat": 4,
  "language_info": {
   "name": "python",
   "version": "3.8.8",
   "mimetype": "text/x-python",
   "codemirror_mode": {
    "name": "ipython",
    "version": 3
   },
   "pygments_lexer": "ipython3",
   "nbconvert_exporter": "python",
   "file_extension": ".py"
  },
  "kernelspec": {
   "name": "python3",
   "display_name": "Python 3.8.8 64-bit ('base': conda)"
  },
  "interpreter": {
   "hash": "016f416f43c7de9d71e7f049375c6b8b903fae571cb02d2ed6c16dadea121115"
  }
 },
 "nbformat": 4,
 "nbformat_minor": 2
}